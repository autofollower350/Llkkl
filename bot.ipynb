{
  "nbformat": 4,
  "nbformat_minor": 0,
  "metadata": {
    "colab": {
      "provenance": [],
      "authorship_tag": "ABX9TyOqo2pwlUaOh1MXCBVFE3og",
      "include_colab_link": true
    },
    "kernelspec": {
      "name": "python3",
      "display_name": "Python 3"
    },
    "language_info": {
      "name": "python"
    }
  },
  "cells": [
    {
      "cell_type": "markdown",
      "metadata": {
        "id": "view-in-github",
        "colab_type": "text"
      },
      "source": [
        "<a href=\"https://colab.research.google.com/github/autofollower350/Llkkl/blob/main/bot.ipynb\" target=\"_parent\"><img src=\"https://colab.research.google.com/assets/colab-badge.svg\" alt=\"Open In Colab\"/></a>"
      ]
    },
    {
      "cell_type": "code",
      "execution_count": null,
      "metadata": {
        "id": "BOZDUBE6jCdC"
      },
      "outputs": [],
      "source": [
        "# ✅ GitHub से स्क्रिप्ट डाउनलोड और इंस्टॉल करें\n",
        "!git clone https://github.com/autofollower350/Llkkl.git\n",
        "%cd Llkkl\n",
        "\n",
        "# ✅ Install Dependencies\n",
        "!python install.py\n",
        "\n",
        "# ✅ Run the Bot\n",
        "!python bot.py"
      ]
    }
  ]
}