{
  "nbformat": 4,
  "nbformat_minor": 0,
  "metadata": {
    "colab": {
      "provenance": [],
      "authorship_tag": "ABX9TyPvK0PyhjFio11NoJnPLFdh",
      "include_colab_link": true
    },
    "kernelspec": {
      "name": "python3",
      "display_name": "Python 3"
    },
    "language_info": {
      "name": "python"
    }
  },
  "cells": [
    {
      "cell_type": "markdown",
      "metadata": {
        "id": "view-in-github",
        "colab_type": "text"
      },
      "source": [
        "<a href=\"https://colab.research.google.com/github/autofollower350/Llkkl/blob/main/deploy_colab.ipynb\" target=\"_parent\"><img src=\"https://colab.research.google.com/assets/colab-badge.svg\" alt=\"Open In Colab\"/></a>"
      ]
    },
    {
      "cell_type": "code",
      "execution_count": null,
      "metadata": {
        "id": "aEEl3twJsmXG"
      },
      "outputs": [],
      "source": [
        "import os\n",
        "\n",
        "# 🔹 User से API Details मांगें\n",
        "API_ID = input(\"Enter your API_ID: \")\n",
        "API_HASH = input(\"Enter your API_HASH: \")\n",
        "BOT_TOKEN = input(\"Enter your BOT_TOKEN: \")\n",
        "\n",
        "# 🔹 Colab में Environment Variables सेट करें\n",
        "os.environ[\"API_ID\"] = API_ID\n",
        "os.environ[\"API_HASH\"] = API_HASH\n",
        "os.environ[\"BOT_TOKEN\"] = BOT_TOKEN\n",
        "\n",
        "# 🔹 Install Required Libraries\n",
        "!pip install -U pyrogram tgcrypto\n",
        "\n",
        "# 🔹 Check if Variables are Set Properly\n",
        "print(\"API_ID:\", os.getenv(\"API_ID\"))\n",
        "print(\"API_HASH:\", os.getenv(\"API_HASH\"))\n",
        "print(\"BOT_TOKEN:\", os.getenv(\"BOT_TOKEN\"))\n",
        "\n",
        "# 🔹 Run the Bot\n",
        "!python bot.py"
      ]
    }
  ]
}