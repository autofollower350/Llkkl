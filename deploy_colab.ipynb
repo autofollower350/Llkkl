#!/bin/bash

Move bot.py to /content/

if [ -f /content/bot/bot.py ]; then mv /content/bot/bot.py /content/bot.py echo "bot.py moved to /content/" else echo "Error: bot.py not found in /content/bot/" fi

Install Required Libraries

pip install -U pyrogram tgcrypto

Ask User for API Details

echo "Enter your API_ID:" read API_ID echo "Enter your API_HASH:" read API_HASH echo "Enter your BOT_TOKEN:" read BOT_TOKEN

Set Environment Variables

export API_ID=$API_ID export API_HASH=$API_HASH export BOT_TOKEN=$BOT_TOKEN

Check if Variables are Set Properly

echo "API_ID: $API_ID" echo "API_HASH: $API_HASH" echo "BOT_TOKEN: $BOT_TOKEN"

Run the Bot

python3 /content/bot.py

